{
 "cells": [
  {
   "cell_type": "code",
   "execution_count": null,
   "metadata": {},
   "outputs": [],
   "source": [
    "import cv2 as cv\n",
    "import numpy as np\n",
    "import matplotlib.pyplot as plt"
   ]
  },
  {
   "cell_type": "code",
   "execution_count": null,
   "metadata": {},
   "outputs": [],
   "source": [
    "def guided_filted(normI, corrected_t, w, eps):\n",
    "    M, N, _ = normI.shape\n",
    "    padded = np.pad(normI, ((int(w/2), int(w/2)), (int(w/2), int(w/2)), (0, 0)), 'edge')\n",
    "    padded_t = np.pad(corrected_t, ((int(w/2), int(w/2)), (int(w/2), int(w/2))), 'edge')   \n",
    "    refined_t = np.zeros((M, N))\n",
    "    for i, j in np.ndindex(refined_t.shape):\n",
    "        I = padded[i:i + w, j:j + w, :]\n",
    "        t = padded_t[i:i + w, j:j + w]\n",
    "        mean_I = cv.boxFilter(I, -1, (w, w), normalize=True)\n",
    "        mean_t = cv.boxFilter(t, -1, (w, w), normalize=True)\n",
    "        corr_I = cv.boxFilter(I * I, -1, (w, w), normalize=True)\n",
    "        corr_I_t = cv.boxFilter(I * t, -1, (w, w), normalize=True)\n",
    "        var_I = corr_I - mean_I * mean_I\n",
    "        cov_I_t = corr_I_t - mean_I * mean_t\n",
    "        a = cov_I_t / (var_I + eps)\n",
    "        b = mean_t - a * mean_I\n",
    "        mean_a = cv.boxFilter(a, -1, (w, w), normalize=True)\n",
    "        mean_b = cv.boxFilter(b, -1, (w, w), normalize=True)\n",
    "        refined_t[i, j] = mean_a * normI[i, j, 0] + mean_b\n",
    "    return refined_t"
   ]
  },
  {
   "cell_type": "code",
   "execution_count": null,
   "metadata": {},
   "outputs": [],
   "source": [
    "I = cv.imread('test.jpg')\n",
    "I = cv.cvtColor(I, cv.COLOR_BGR2RGB)\n",
    "k = cv.boxFilter(I, -1, (5, 5))"
   ]
  }
 ],
 "metadata": {
  "kernelspec": {
   "display_name": "Python 3.9.12 ('o3d')",
   "language": "python",
   "name": "python3"
  },
  "language_info": {
   "name": "python",
   "version": "3.9.12"
  },
  "orig_nbformat": 4,
  "vscode": {
   "interpreter": {
    "hash": "3aa2867548a2efa4fe3a7a83c946afea30c6c09015a4bde2cf54b270b198174c"
   }
  }
 },
 "nbformat": 4,
 "nbformat_minor": 2
}
